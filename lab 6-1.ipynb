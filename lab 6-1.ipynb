{
 "cells": [
  {
   "cell_type": "code",
   "execution_count": 1,
   "metadata": {},
   "outputs": [
    {
     "name": "stdout",
     "output_type": "stream",
     "text": [
      "AMOGUS\n"
     ]
    }
   ],
   "source": [
    "print(\"AMOGUS\")"
   ]
  },
  {
   "cell_type": "code",
   "execution_count": 8,
   "metadata": {},
   "outputs": [
    {
     "name": "stdout",
     "output_type": "stream",
     "text": [
      "0 amogus\n",
      "1 amogus\n",
      "2 amogus\n",
      "3 amogus\n",
      "4 amogus\n",
      "5 amogus\n",
      "6 amogus\n",
      "7 amogus\n",
      "8 amogus\n",
      "9 amogus\n"
     ]
    }
   ],
   "source": [
    "for i in range(10):\n",
    "    print(\"%d amogus\" %i)"
   ]
  },
  {
   "cell_type": "code",
   "execution_count": 9,
   "metadata": {},
   "outputs": [
    {
     "name": "stdout",
     "output_type": "stream",
     "text": [
      "25.5\n"
     ]
    }
   ],
   "source": [
    "a = 10.5\n",
    "b = 15\n",
    "print(a+b)"
   ]
  },
  {
   "cell_type": "code",
   "execution_count": 12,
   "metadata": {},
   "outputs": [
    {
     "name": "stdout",
     "output_type": "stream",
     "text": [
      "Fahrenheit : 80.60\n",
      "Kelvin : 300.15\n"
     ]
    }
   ],
   "source": [
    "def F(C):\n",
    "    F = C*(9/5)+32\n",
    "    return(F)\n",
    "    \n",
    "def K(C):\n",
    "    K = C+273.15\n",
    "    return(K)\n",
    "\n",
    "Cel = int(input(\"Temperature in Celsius :\"))\n",
    "\n",
    "Fa = \"{:.2f}\".format(F(Cel))\n",
    "Ke = \"{:.2f}\".format(K(Cel))\n",
    "\n",
    "print(\"Fahrenheit : \" + Fa)\n",
    "print(\"Kelvin : \" + Ke)"
   ]
  },
  {
   "cell_type": "code",
   "execution_count": 9,
   "metadata": {},
   "outputs": [
    {
     "name": "stdout",
     "output_type": "stream",
     "text": [
      "คะแนนเก็บเกิน\n",
      "คะแนนจิตพิสัยเกิน\n",
      "คะแนนกลางภาคเกิน\n",
      "คะแนนกลางภาคเกิน\n",
      "คะแนนรวม = 48\n"
     ]
    }
   ],
   "source": [
    "def Accu(A,B,C):\n",
    "\n",
    "    Sum = A+B+C\n",
    "    print(\"คะแนนรวม = \" + str(Sum))\n",
    "\n",
    "    \n",
    "    \n",
    "A = int(input(\"คะแนนเก็บ : \"))\n",
    "\n",
    "while  int(A) > 20:\n",
    "    print(\"คะแนนเก็บเกิน\")\n",
    "    A = int(input(\"คะแนนเก็บ : \"))\n",
    "\n",
    "B = int(input(\"คะแนนจิตพิสัย : \"))\n",
    "\n",
    "while  int(B) > 10:\n",
    "    print(\"คะแนนจิตพิสัยเกิน\")\n",
    "    B = int(input(\"คะแนนจิตพิสัย : \"))\n",
    "\n",
    "C = int(input(\"คะแนนกลางภาค : \"))\n",
    "\n",
    "while  int(C) > 20:\n",
    "    print(\"คะแนนกลางภาคเกิน\")\n",
    "    C = int(input(\"คะแนนกลางภาค : \"))\n",
    "\n",
    "Accu(A,B,C)\n",
    "\n",
    "\n"
   ]
  }
 ],
 "metadata": {
  "kernelspec": {
   "display_name": "Python 3",
   "language": "python",
   "name": "python3"
  },
  "language_info": {
   "codemirror_mode": {
    "name": "ipython",
    "version": 3
   },
   "file_extension": ".py",
   "mimetype": "text/x-python",
   "name": "python",
   "nbconvert_exporter": "python",
   "pygments_lexer": "ipython3",
   "version": "3.12.4"
  }
 },
 "nbformat": 4,
 "nbformat_minor": 2
}
