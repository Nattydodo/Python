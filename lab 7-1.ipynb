{
 "cells": [
  {
   "cell_type": "code",
   "execution_count": 33,
   "metadata": {},
   "outputs": [
    {
     "name": "stdout",
     "output_type": "stream",
     "text": [
      "Nat's Salary + OT is 9100.00\n"
     ]
    }
   ],
   "source": [
    "#varient 1\n",
    "\n",
    "def calc(Hr,OT):\n",
    "\n",
    "    Pay = 0\n",
    "    if Hr > 40:\n",
    "        Pay = (Hr-40)*(OT*1.5)\n",
    "        return(Pay)\n",
    "    else:\n",
    "        return(0)\n",
    "\n",
    "\n",
    "\n",
    "Ename = input(\"Employee's name: \")\n",
    "Epay = float(input(\"Employee's salary: \"))\n",
    "Ehour = float(input(\"Employee's working + OT hour: \"))\n",
    "EOT = float(input(\"Employee's OT payment rate: \"))\n",
    "\n",
    "Sal = Epay + calc(Ehour,EOT)\n",
    "print(str(Ename) +\"'s Salary + OT is \"+ \"%.2f\" %Sal)\n",
    "\n"
   ]
  },
  {
   "cell_type": "code",
   "execution_count": null,
   "metadata": {},
   "outputs": [
    {
     "name": "stdout",
     "output_type": "stream",
     "text": [
      "Nat's Salary + OT is 1700.00\n"
     ]
    }
   ],
   "source": [
    "#varient 2\n",
    "\n",
    "def calc(Hr,Slr):\n",
    "\n",
    "    Pay = 0\n",
    "    if Hr > 40:\n",
    "        Pay = Hr*(Slr*1.5)\n",
    "        return(Pay)\n",
    "    else:\n",
    "        Pay = Hr*Slr\n",
    "        return(Pay)\n",
    "\n",
    "\n",
    "\n",
    "Ename = input(\"Employee's name: \")\n",
    "Epay = float(input(\"Employee's salary (Per hour): \"))\n",
    "Ehour = float(input(\"Employee's working OT hour: \"))\n",
    "\n",
    "Sal = calc(Ehour,Ehour)\n",
    "print(str(Ename) +\"'s Salary + OT is \"+ \"%.2f\" %Sal)\n",
    "\n"
   ]
  },
  {
   "cell_type": "code",
   "execution_count": 39,
   "metadata": {},
   "outputs": [],
   "source": [
    "import tkinter as tk\n",
    "app = tk.Tk()\n",
    "app.title(\"Design by Siradanai\")\n",
    "btn = tk.Button(text=\"Click\")\n",
    "lable = tk.Label(text=\"Employee's name\")\n",
    "btn.pack()\n",
    "lable.pack()\n",
    "\n",
    "\n",
    "app.mainloop()"
   ]
  },
  {
   "cell_type": "code",
   "execution_count": 48,
   "metadata": {},
   "outputs": [
    {
     "name": "stdout",
     "output_type": "stream",
     "text": [
      ".!entry\n"
     ]
    }
   ],
   "source": [
    "import tkinter as tk\n",
    "app = tk.Tk()\n",
    "\n",
    "def showme (n):\n",
    "    print(n)\n",
    "\n",
    "app.title(\"Design by Siradanai\")\n",
    "lable = tk.Label(text=\"Employee's name\")\n",
    "name = tk.Entry()\n",
    "lable2 = tk.Label(text=\"Employee's salary\")\n",
    "salar = tk.Entry()\n",
    "\n",
    "btn = tk.Button(text=\"Click Me\", command=showme(name))\n",
    "\n",
    "lable.place(x=50,y=50)\n",
    "name.place(x=250,y=50)\n",
    "lable2.place(x=50,y=100)\n",
    "salar.place(x=250,y=100)\n",
    "btn.place(x=150,y=150)\n",
    "\n",
    "app.mainloop()"
   ]
  }
 ],
 "metadata": {
  "kernelspec": {
   "display_name": "Python 3",
   "language": "python",
   "name": "python3"
  },
  "language_info": {
   "codemirror_mode": {
    "name": "ipython",
    "version": 3
   },
   "file_extension": ".py",
   "mimetype": "text/x-python",
   "name": "python",
   "nbconvert_exporter": "python",
   "pygments_lexer": "ipython3",
   "version": "3.12.4"
  }
 },
 "nbformat": 4,
 "nbformat_minor": 2
}
